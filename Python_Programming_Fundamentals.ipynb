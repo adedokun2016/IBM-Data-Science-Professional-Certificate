{
  "nbformat": 4,
  "nbformat_minor": 0,
  "metadata": {
    "colab": {
      "provenance": [],
      "authorship_tag": "ABX9TyMzcCPDid0FsEtdVOm2+gt7",
      "include_colab_link": true
    },
    "kernelspec": {
      "name": "python3",
      "display_name": "Python 3"
    },
    "language_info": {
      "name": "python"
    }
  },
  "cells": [
    {
      "cell_type": "markdown",
      "metadata": {
        "id": "view-in-github",
        "colab_type": "text"
      },
      "source": [
        "<a href=\"https://colab.research.google.com/github/adedokun2016/IBM-Data-Science-Professional-Certificate/blob/main/Python_Programming_Fundamentals.ipynb\" target=\"_parent\"><img src=\"https://colab.research.google.com/assets/colab-badge.svg\" alt=\"Open In Colab\"/></a>"
      ]
    },
    {
      "cell_type": "code",
      "execution_count": 1,
      "metadata": {
        "colab": {
          "base_uri": "https://localhost:8080/"
        },
        "id": "d0hxEBcjPsH8",
        "outputId": "44f42b37-eb28-4034-db32-b4d9a2ceb751"
      },
      "outputs": [
        {
          "output_type": "stream",
          "name": "stdout",
          "text": [
            "Stop\n",
            "Mike\n"
          ]
        }
      ],
      "source": [
        "x = \"Gone\"\n",
        "if x == \"Go\":\n",
        "    print('Go')\n",
        "else:\n",
        "    print('Stop')\n",
        "print('Mike')"
      ]
    },
    {
      "cell_type": "code",
      "source": [
        "x = 1\n",
        "x = x > -5"
      ],
      "metadata": {
        "id": "xGDu87hRPxJu"
      },
      "execution_count": 3,
      "outputs": []
    },
    {
      "cell_type": "code",
      "source": [
        "x = 5\n",
        "while x != 2:\n",
        "    print(x)\n",
        "    x = x - 1\n"
      ],
      "metadata": {
        "colab": {
          "base_uri": "https://localhost:8080/"
        },
        "id": "GWb6o4gTP1Em",
        "outputId": "2f1fe2ae-71ca-45e8-e390-6f958af04467"
      },
      "execution_count": 5,
      "outputs": [
        {
          "output_type": "stream",
          "name": "stdout",
          "text": [
            "5\n",
            "4\n",
            "3\n"
          ]
        }
      ]
    },
    {
      "cell_type": "code",
      "source": [
        "class Points(object):\n",
        "    def __init__(self, x, y):\n",
        "        self.x = x\n",
        "        self.y = y\n",
        "    def print_point(self):\n",
        "        print('x=', self.x, ' y=', self.y)\n",
        "\n",
        "\n",
        "p1 = Points(1, 2)\n",
        "p1.print_point()"
      ],
      "metadata": {
        "colab": {
          "base_uri": "https://localhost:8080/"
        },
        "id": "MbnHannBP7xI",
        "outputId": "31fb628a-10c9-49dd-c2ae-ae74cc593da7"
      },
      "execution_count": 6,
      "outputs": [
        {
          "output_type": "stream",
          "name": "stdout",
          "text": [
            "x= 1  y= 2\n"
          ]
        }
      ]
    },
    {
      "cell_type": "code",
      "source": [
        "for i, x in enumerate(['A', 'B', 'C']):\n",
        "    print(i + 1, x)"
      ],
      "metadata": {
        "colab": {
          "base_uri": "https://localhost:8080/"
        },
        "id": "b-4CFGA5QCkm",
        "outputId": "dd0688d4-2c34-467a-8122-d681d6296428"
      },
      "execution_count": 7,
      "outputs": [
        {
          "output_type": "stream",
          "name": "stdout",
          "text": [
            "1 A\n",
            "2 B\n",
            "3 C\n"
          ]
        }
      ]
    },
    {
      "cell_type": "code",
      "source": [
        "class Points(object):\n",
        "    def __init__(self, x, y):\n",
        "        self.x = x\n",
        "        self.y = y\n",
        "    def print_point(self):\n",
        "        print('x=', self.x, ' y=', self.y)\n",
        "\n",
        "\n",
        "p2 = Points(1, 2)\n",
        "p2.x = 'A'\n",
        "p2.print_point()"
      ],
      "metadata": {
        "colab": {
          "base_uri": "https://localhost:8080/"
        },
        "id": "qK0VksXnQGI3",
        "outputId": "83433245-0f56-4fb8-b788-a1d6b8df153f"
      },
      "execution_count": 8,
      "outputs": [
        {
          "output_type": "stream",
          "name": "stdout",
          "text": [
            "x= A  y= 2\n"
          ]
        }
      ]
    },
    {
      "cell_type": "code",
      "source": [
        " def step(x):\n",
        "      if x > 0:\n",
        "        y = 1\n",
        "      else:\n",
        "        y = 0\n",
        "      return y"
      ],
      "metadata": {
        "id": "e0H_mrn-QNKl"
      },
      "execution_count": 13,
      "outputs": []
    },
    {
      "cell_type": "code",
      "source": [
        " a = 1\n",
        "def do(x):\n",
        "    a = 100\n",
        "    return x + a\n",
        "\n",
        "\n",
        "print(do(1))"
      ],
      "metadata": {
        "colab": {
          "base_uri": "https://localhost:8080/"
        },
        "id": "ZavLD56_Qe7z",
        "outputId": "14be48c5-08f5-41e5-baf9-0ecbaa4959cd"
      },
      "execution_count": 14,
      "outputs": [
        {
          "output_type": "stream",
          "name": "stdout",
          "text": [
            "101\n"
          ]
        }
      ]
    },
    {
      "cell_type": "code",
      "source": [
        "def add(a, b):\n",
        "    return(sum((a, b)))\n"
      ],
      "metadata": {
        "id": "lfLr0kMQQxMP"
      },
      "execution_count": null,
      "outputs": []
    },
    {
      "cell_type": "code",
      "source": [
        "def add(a, b):\n",
        "    return(a + b)\n"
      ],
      "metadata": {
        "id": "LnM4YuDhQzQi"
      },
      "execution_count": null,
      "outputs": []
    },
    {
      "cell_type": "code",
      "source": [
        "try:\n",
        "    numerator = 10\n",
        "    denominator = 0\n",
        "    result = numerator / denominator\n",
        "    print(result)\n",
        "except ZeroDivisionError:\n",
        "    print(\"Error: Denominator cannot be 0.\")"
      ],
      "metadata": {
        "colab": {
          "base_uri": "https://localhost:8080/"
        },
        "id": "0T5hYZS3Q56M",
        "outputId": "3c20b4df-84af-400f-a5a9-f2b7e0b821b1"
      },
      "execution_count": 15,
      "outputs": [
        {
          "output_type": "stream",
          "name": "stdout",
          "text": [
            "Error: Denominator cannot be 0.\n"
          ]
        }
      ]
    }
  ]
}