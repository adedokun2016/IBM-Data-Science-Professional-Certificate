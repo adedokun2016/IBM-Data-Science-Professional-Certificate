{
  "cells": [
    {
      "cell_type": "markdown",
      "metadata": {
        "id": "view-in-github",
        "colab_type": "text"
      },
      "source": [
        "<a href=\"https://colab.research.google.com/github/adedokun2016/IBM-Data-Science-Professional-Certificate/blob/main/Extracting_Stock_Data_Using_a_Python_Library.ipynb\" target=\"_parent\"><img src=\"https://colab.research.google.com/assets/colab-badge.svg\" alt=\"Open In Colab\"/></a>"
      ]
    },
    {
      "cell_type": "markdown",
      "metadata": {
        "id": "99f73bd7-b29f-4ab3-8aad-51d84269f06f"
      },
      "source": [
        "<center>\n",
        "    <img src=\"https://cf-courses-data.s3.us.cloud-object-storage.appdomain.cloud/IBMDeveloperSkillsNetwork-PY0220EN-SkillsNetwork/labs/project/Images/SN_logo.png\" width=\"300\" alt=\"cognitiveclass.ai logo\">\n",
        "</center>\n"
      ]
    },
    {
      "cell_type": "markdown",
      "metadata": {
        "id": "4122c6ea-bac2-44d6-af4f-cfa66454f54b"
      },
      "source": [
        "<h1>Extracting Stock Data Using a Python Library</h1>\n"
      ]
    },
    {
      "cell_type": "markdown",
      "metadata": {
        "id": "3bf406a2-b2b3-4f50-9f8b-d3eaafc7fc58"
      },
      "source": [
        "A company's stock share is a piece of the company more precisely:\n",
        "<p><b>A stock (also known as equity) is a security that represents the ownership of a fraction of a corporation. This\n",
        "entitles the owner of the stock to a proportion of the corporation's assets and profits equal to how much stock they own. Units of stock are called \"shares.\" [1]</p></b>\n",
        "\n",
        "An investor can buy a stock and sell it later. If the stock price increases, the investor profits, If it decreases,the investor with incur a loss.  Determining the stock price is complex; it depends on the number of outstanding shares, the size of the company's future profits, and much more. People trade stocks throughout the day the stock ticker is a report of the price of a certain stock, updated continuously throughout the trading session by the various stock market exchanges.\n",
        "<p>You are a data scientist working for a hedge fund; it's your job to determine any suspicious stock activity. In this lab you will extract stock data using a Python library. We will use the <coode>yfinance</code> library, it allows us to extract data for stocks returning data in a pandas dataframe. You will use the lab to extract.</p>\n"
      ]
    },
    {
      "cell_type": "markdown",
      "metadata": {
        "id": "23f9e6fc-7cdb-4cf2-ba3a-f5e359b24470"
      },
      "source": [
        "<h2>Table of Contents</h2>\n",
        "<div class=\"alert alert-block alert-info\" style=\"margin-top: 20px\">\n",
        "    <ul>\n",
        "        <li>Using yfinance to Extract Stock Info</li>\n",
        "        <li>Using yfinance to Extract Historical Share Price Data</li>\n",
        "        <li>Using yfinance to Extract Historical Dividends Data</li>\n",
        "        <li>Exercise</li>\n",
        "    </ul>\n",
        "<p>\n",
        "    Estimated Time Needed: <strong>30 min</strong></p>\n",
        "</div>\n",
        "\n",
        "<hr>\n"
      ]
    },
    {
      "cell_type": "code",
      "metadata": {
        "colab": {
          "base_uri": "https://localhost:8080/"
        },
        "id": "5fda6d8b-4136-4e91-b313-7182c019e00b",
        "outputId": "6850ddf6-d0e3-4a91-dcac-21689ab04b03"
      },
      "outputs": [
        {
          "output_type": "stream",
          "name": "stdout",
          "text": [
            "Requirement already satisfied: yfinance in /usr/local/lib/python3.10/dist-packages (0.2.40)\n",
            "Requirement already satisfied: pandas>=1.3.0 in /usr/local/lib/python3.10/dist-packages (from yfinance) (2.0.3)\n",
            "Requirement already satisfied: numpy>=1.16.5 in /usr/local/lib/python3.10/dist-packages (from yfinance) (1.25.2)\n",
            "Requirement already satisfied: requests>=2.31 in /usr/local/lib/python3.10/dist-packages (from yfinance) (2.31.0)\n",
            "Requirement already satisfied: multitasking>=0.0.7 in /usr/local/lib/python3.10/dist-packages (from yfinance) (0.0.11)\n",
            "Requirement already satisfied: lxml>=4.9.1 in /usr/local/lib/python3.10/dist-packages (from yfinance) (4.9.4)\n",
            "Requirement already satisfied: platformdirs>=2.0.0 in /usr/local/lib/python3.10/dist-packages (from yfinance) (4.2.2)\n",
            "Requirement already satisfied: pytz>=2022.5 in /usr/local/lib/python3.10/dist-packages (from yfinance) (2023.4)\n",
            "Requirement already satisfied: frozendict>=2.3.4 in /usr/local/lib/python3.10/dist-packages (from yfinance) (2.4.4)\n",
            "Requirement already satisfied: peewee>=3.16.2 in /usr/local/lib/python3.10/dist-packages (from yfinance) (3.17.6)\n",
            "Requirement already satisfied: beautifulsoup4>=4.11.1 in /usr/local/lib/python3.10/dist-packages (from yfinance) (4.12.3)\n",
            "Requirement already satisfied: html5lib>=1.1 in /usr/local/lib/python3.10/dist-packages (from yfinance) (1.1)\n",
            "Requirement already satisfied: soupsieve>1.2 in /usr/local/lib/python3.10/dist-packages (from beautifulsoup4>=4.11.1->yfinance) (2.5)\n",
            "Requirement already satisfied: six>=1.9 in /usr/local/lib/python3.10/dist-packages (from html5lib>=1.1->yfinance) (1.16.0)\n",
            "Requirement already satisfied: webencodings in /usr/local/lib/python3.10/dist-packages (from html5lib>=1.1->yfinance) (0.5.1)\n",
            "Requirement already satisfied: python-dateutil>=2.8.2 in /usr/local/lib/python3.10/dist-packages (from pandas>=1.3.0->yfinance) (2.8.2)\n",
            "Requirement already satisfied: tzdata>=2022.1 in /usr/local/lib/python3.10/dist-packages (from pandas>=1.3.0->yfinance) (2024.1)\n",
            "Requirement already satisfied: charset-normalizer<4,>=2 in /usr/local/lib/python3.10/dist-packages (from requests>=2.31->yfinance) (3.3.2)\n",
            "Requirement already satisfied: idna<4,>=2.5 in /usr/local/lib/python3.10/dist-packages (from requests>=2.31->yfinance) (3.7)\n",
            "Requirement already satisfied: urllib3<3,>=1.21.1 in /usr/local/lib/python3.10/dist-packages (from requests>=2.31->yfinance) (2.0.7)\n",
            "Requirement already satisfied: certifi>=2017.4.17 in /usr/local/lib/python3.10/dist-packages (from requests>=2.31->yfinance) (2024.7.4)\n",
            "Requirement already satisfied: pandas in /usr/local/lib/python3.10/dist-packages (2.0.3)\n",
            "Requirement already satisfied: python-dateutil>=2.8.2 in /usr/local/lib/python3.10/dist-packages (from pandas) (2.8.2)\n",
            "Requirement already satisfied: pytz>=2020.1 in /usr/local/lib/python3.10/dist-packages (from pandas) (2023.4)\n",
            "Requirement already satisfied: tzdata>=2022.1 in /usr/local/lib/python3.10/dist-packages (from pandas) (2024.1)\n",
            "Requirement already satisfied: numpy>=1.21.0 in /usr/local/lib/python3.10/dist-packages (from pandas) (1.25.2)\n",
            "Requirement already satisfied: six>=1.5 in /usr/local/lib/python3.10/dist-packages (from python-dateutil>=2.8.2->pandas) (1.16.0)\n",
            "Requirement already satisfied: matplotlib in /usr/local/lib/python3.10/dist-packages (3.7.1)\n",
            "Requirement already satisfied: contourpy>=1.0.1 in /usr/local/lib/python3.10/dist-packages (from matplotlib) (1.2.1)\n",
            "Requirement already satisfied: cycler>=0.10 in /usr/local/lib/python3.10/dist-packages (from matplotlib) (0.12.1)\n",
            "Requirement already satisfied: fonttools>=4.22.0 in /usr/local/lib/python3.10/dist-packages (from matplotlib) (4.53.1)\n",
            "Requirement already satisfied: kiwisolver>=1.0.1 in /usr/local/lib/python3.10/dist-packages (from matplotlib) (1.4.5)\n",
            "Requirement already satisfied: numpy>=1.20 in /usr/local/lib/python3.10/dist-packages (from matplotlib) (1.25.2)\n",
            "Requirement already satisfied: packaging>=20.0 in /usr/local/lib/python3.10/dist-packages (from matplotlib) (24.1)\n",
            "Requirement already satisfied: pillow>=6.2.0 in /usr/local/lib/python3.10/dist-packages (from matplotlib) (9.4.0)\n",
            "Requirement already satisfied: pyparsing>=2.3.1 in /usr/local/lib/python3.10/dist-packages (from matplotlib) (3.1.2)\n",
            "Requirement already satisfied: python-dateutil>=2.7 in /usr/local/lib/python3.10/dist-packages (from matplotlib) (2.8.2)\n",
            "Requirement already satisfied: six>=1.5 in /usr/local/lib/python3.10/dist-packages (from python-dateutil>=2.7->matplotlib) (1.16.0)\n"
          ]
        }
      ],
      "source": [
        "!pip install yfinance\n",
        "!pip install pandas\n",
        "!pip install matplotlib"
      ],
      "execution_count": null
    },
    {
      "cell_type": "code",
      "metadata": {
        "id": "d4022128-9d08-4c69-9513-417ba9b81d5d"
      },
      "outputs": [],
      "source": [
        "import yfinance as yf\n",
        "import pandas as pd\n",
        "import matplotlib_inline"
      ],
      "execution_count": null
    },
    {
      "cell_type": "markdown",
      "metadata": {
        "id": "00fd268e-3bf4-448e-b720-0be2b521f6ce"
      },
      "source": [
        "## Using the yfinance Library to Extract Stock Data\n"
      ]
    },
    {
      "cell_type": "markdown",
      "metadata": {
        "id": "c7f6b192-9564-402f-85df-f0dd168a0d6c"
      },
      "source": [
        "Using the `Ticker` module we can create an object that will allow us to access functions to extract data. To do this we need to provide the ticker symbol for the stock, here the company is Apple and the ticker symbol is `AAPL`.\n"
      ]
    },
    {
      "cell_type": "code",
      "metadata": {
        "id": "569adc86-c0a3-46d5-9cfa-d89042ae7992"
      },
      "outputs": [],
      "source": [
        "apple = yf.Ticker(\"AAPL\")"
      ],
      "execution_count": null
    },
    {
      "cell_type": "markdown",
      "metadata": {
        "id": "320c29db-cc50-4041-9564-49a8c4192e49"
      },
      "source": [
        "Now we can access functions and variables to extract the type of data we need. You can view them and what they represent here https://aroussi.com/post/python-yahoo-finance.\n"
      ]
    },
    {
      "cell_type": "code",
      "metadata": {
        "colab": {
          "base_uri": "https://localhost:8080/"
        },
        "id": "e81d48b2-c9e0-4a49-a801-5c6223e1e01e",
        "outputId": "1b5663ae-2fe4-4b2e-b774-00a20230f8d7"
      },
      "outputs": [
        {
          "output_type": "stream",
          "name": "stdout",
          "text": [
            "--2024-07-21 18:11:02--  https://cf-courses-data.s3.us.cloud-object-storage.appdomain.cloud/IBMDeveloperSkillsNetwork-PY0220EN-SkillsNetwork/data/apple.json\n",
            "Resolving cf-courses-data.s3.us.cloud-object-storage.appdomain.cloud (cf-courses-data.s3.us.cloud-object-storage.appdomain.cloud)... 198.23.119.245\n",
            "Connecting to cf-courses-data.s3.us.cloud-object-storage.appdomain.cloud (cf-courses-data.s3.us.cloud-object-storage.appdomain.cloud)|198.23.119.245|:443... connected.\n",
            "HTTP request sent, awaiting response... 200 OK\n",
            "Length: 5699 (5.6K) [application/json]\n",
            "Saving to: ‘apple.json.2’\n",
            "\n",
            "apple.json.2        100%[===================>]   5.57K  --.-KB/s    in 0s      \n",
            "\n",
            "2024-07-21 18:11:02 (983 MB/s) - ‘apple.json.2’ saved [5699/5699]\n",
            "\n"
          ]
        }
      ],
      "source": [
        "!wget https://cf-courses-data.s3.us.cloud-object-storage.appdomain.cloud/IBMDeveloperSkillsNetwork-PY0220EN-SkillsNetwork/data/apple.json"
      ],
      "execution_count": null
    },
    {
      "cell_type": "markdown",
      "metadata": {
        "id": "27381fe5-2b26-4e5d-9564-77f08dbb187f"
      },
      "source": [
        "### Stock Info\n"
      ]
    },
    {
      "cell_type": "markdown",
      "metadata": {
        "id": "0dd03076-40fb-4bb7-85a9-88e39a215266"
      },
      "source": [
        "Using the attribute  <code>info</code> we can extract information about the stock as a Python dictionary.\n"
      ]
    },
    {
      "cell_type": "code",
      "metadata": {
        "colab": {
          "base_uri": "https://localhost:8080/"
        },
        "id": "b932c60e-834e-448e-b088-b1e708a13d93",
        "outputId": "fafe6401-52d2-457c-9128-5bbc7b021ded"
      },
      "outputs": [
        {
          "output_type": "execute_result",
          "data": {
            "text/plain": [
              "{'zip': '95014',\n",
              " 'sector': 'Technology',\n",
              " 'fullTimeEmployees': 100000,\n",
              " 'longBusinessSummary': 'Apple Inc. designs, manufactures, and markets smartphones, personal computers, tablets, wearables, and accessories worldwide. It also sells various related services. In addition, the company offers iPhone, a line of smartphones; Mac, a line of personal computers; iPad, a line of multi-purpose tablets; AirPods Max, an over-ear wireless headphone; and wearables, home, and accessories comprising AirPods, Apple TV, Apple Watch, Beats products, HomePod, and iPod touch. Further, it provides AppleCare support services; cloud services store services; and operates various platforms, including the App Store that allow customers to discover and download applications and digital content, such as books, music, video, games, and podcasts. Additionally, the company offers various services, such as Apple Arcade, a game subscription service; Apple Music, which offers users a curated listening experience with on-demand radio stations; Apple News+, a subscription news and magazine service; Apple TV+, which offers exclusive original content; Apple Card, a co-branded credit card; and Apple Pay, a cashless payment service, as well as licenses its intellectual property. The company serves consumers, and small and mid-sized businesses; and the education, enterprise, and government markets. It distributes third-party applications for its products through the App Store. The company also sells its products through its retail and online stores, and direct sales force; and third-party cellular network carriers, wholesalers, retailers, and resellers. Apple Inc. was incorporated in 1977 and is headquartered in Cupertino, California.',\n",
              " 'city': 'Cupertino',\n",
              " 'phone': '408 996 1010',\n",
              " 'state': 'CA',\n",
              " 'country': 'United States',\n",
              " 'companyOfficers': [],\n",
              " 'website': 'https://www.apple.com',\n",
              " 'maxAge': 1,\n",
              " 'address1': 'One Apple Park Way',\n",
              " 'industry': 'Consumer Electronics',\n",
              " 'ebitdaMargins': 0.33890998,\n",
              " 'profitMargins': 0.26579002,\n",
              " 'grossMargins': 0.43019,\n",
              " 'operatingCashflow': 112241000448,\n",
              " 'revenueGrowth': 0.112,\n",
              " 'operatingMargins': 0.309,\n",
              " 'ebitda': 128217997312,\n",
              " 'targetLowPrice': 160,\n",
              " 'recommendationKey': 'buy',\n",
              " 'grossProfits': 152836000000,\n",
              " 'freeCashflow': 80153247744,\n",
              " 'targetMedianPrice': 199.5,\n",
              " 'currentPrice': 177.77,\n",
              " 'earningsGrowth': 0.25,\n",
              " 'currentRatio': 1.038,\n",
              " 'returnOnAssets': 0.19875,\n",
              " 'numberOfAnalystOpinions': 44,\n",
              " 'targetMeanPrice': 193.53,\n",
              " 'debtToEquity': 170.714,\n",
              " 'returnOnEquity': 1.45567,\n",
              " 'targetHighPrice': 215,\n",
              " 'totalCash': 63913000960,\n",
              " 'totalDebt': 122797998080,\n",
              " 'totalRevenue': 378323009536,\n",
              " 'totalCashPerShare': 3.916,\n",
              " 'financialCurrency': 'USD',\n",
              " 'revenuePerShare': 22.838,\n",
              " 'quickRatio': 0.875,\n",
              " 'recommendationMean': 1.8,\n",
              " 'exchange': 'NMS',\n",
              " 'shortName': 'Apple Inc.',\n",
              " 'longName': 'Apple Inc.',\n",
              " 'exchangeTimezoneName': 'America/New_York',\n",
              " 'exchangeTimezoneShortName': 'EDT',\n",
              " 'isEsgPopulated': False,\n",
              " 'gmtOffSetMilliseconds': '-14400000',\n",
              " 'quoteType': 'EQUITY',\n",
              " 'symbol': 'AAPL',\n",
              " 'messageBoardId': 'finmb_24937',\n",
              " 'market': 'us_market',\n",
              " 'annualHoldingsTurnover': None,\n",
              " 'enterpriseToRevenue': 7.824,\n",
              " 'beta3Year': None,\n",
              " 'enterpriseToEbitda': 23.086,\n",
              " '52WeekChange': 0.4549594,\n",
              " 'morningStarRiskRating': None,\n",
              " 'forwardEps': 6.56,\n",
              " 'revenueQuarterlyGrowth': None,\n",
              " 'sharesOutstanding': 16319399936,\n",
              " 'fundInceptionDate': None,\n",
              " 'annualReportExpenseRatio': None,\n",
              " 'totalAssets': None,\n",
              " 'bookValue': 4.402,\n",
              " 'sharesShort': 111286790,\n",
              " 'sharesPercentSharesOut': 0.0068,\n",
              " 'fundFamily': None,\n",
              " 'lastFiscalYearEnd': 1632528000,\n",
              " 'heldPercentInstitutions': 0.59397,\n",
              " 'netIncomeToCommon': 100554997760,\n",
              " 'trailingEps': 6.015,\n",
              " 'lastDividendValue': 0.22,\n",
              " 'SandP52WeekChange': 0.15217662,\n",
              " 'priceToBook': 40.38392,\n",
              " 'heldPercentInsiders': 0.0007,\n",
              " 'nextFiscalYearEnd': 1695600000,\n",
              " 'yield': None,\n",
              " 'mostRecentQuarter': 1640390400,\n",
              " 'shortRatio': 1.21,\n",
              " 'sharesShortPreviousMonthDate': 1644883200,\n",
              " 'floatShares': 16302795170,\n",
              " 'beta': 1.185531,\n",
              " 'enterpriseValue': 2959991898112,\n",
              " 'priceHint': 2,\n",
              " 'threeYearAverageReturn': None,\n",
              " 'lastSplitDate': 1598832000,\n",
              " 'lastSplitFactor': '4:1',\n",
              " 'legalType': None,\n",
              " 'lastDividendDate': 1643932800,\n",
              " 'morningStarOverallRating': None,\n",
              " 'earningsQuarterlyGrowth': 0.204,\n",
              " 'priceToSalesTrailing12Months': 7.668314,\n",
              " 'dateShortInterest': 1647302400,\n",
              " 'pegRatio': 1.94,\n",
              " 'ytdReturn': None,\n",
              " 'forwardPE': 27.099087,\n",
              " 'lastCapGain': None,\n",
              " 'shortPercentOfFloat': 0.0068,\n",
              " 'sharesShortPriorMonth': 108944701,\n",
              " 'impliedSharesOutstanding': 0,\n",
              " 'category': None,\n",
              " 'fiveYearAverageReturn': None,\n",
              " 'previousClose': 178.96,\n",
              " 'regularMarketOpen': 178.55,\n",
              " 'twoHundredDayAverage': 156.03505,\n",
              " 'trailingAnnualDividendYield': 0.004833482,\n",
              " 'payoutRatio': 0.1434,\n",
              " 'volume24Hr': None,\n",
              " 'regularMarketDayHigh': 179.61,\n",
              " 'navPrice': None,\n",
              " 'averageDailyVolume10Day': 93823630,\n",
              " 'regularMarketPreviousClose': 178.96,\n",
              " 'fiftyDayAverage': 166.498,\n",
              " 'trailingAnnualDividendRate': 0.865,\n",
              " 'open': 178.55,\n",
              " 'toCurrency': None,\n",
              " 'averageVolume10days': 93823630,\n",
              " 'expireDate': None,\n",
              " 'algorithm': None,\n",
              " 'dividendRate': 0.88,\n",
              " 'exDividendDate': 1643932800,\n",
              " 'circulatingSupply': None,\n",
              " 'startDate': None,\n",
              " 'regularMarketDayLow': 176.7,\n",
              " 'currency': 'USD',\n",
              " 'trailingPE': 29.55445,\n",
              " 'regularMarketVolume': 92633154,\n",
              " 'lastMarket': None,\n",
              " 'maxSupply': None,\n",
              " 'openInterest': None,\n",
              " 'marketCap': 2901099675648,\n",
              " 'volumeAllCurrencies': None,\n",
              " 'strikePrice': None,\n",
              " 'averageVolume': 95342043,\n",
              " 'dayLow': 176.7,\n",
              " 'ask': 178.53,\n",
              " 'askSize': 800,\n",
              " 'volume': 92633154,\n",
              " 'fiftyTwoWeekHigh': 182.94,\n",
              " 'fromCurrency': None,\n",
              " 'fiveYearAvgDividendYield': 1.13,\n",
              " 'fiftyTwoWeekLow': 122.25,\n",
              " 'bid': 178.4,\n",
              " 'tradeable': False,\n",
              " 'dividendYield': 0.005,\n",
              " 'bidSize': 3200,\n",
              " 'dayHigh': 179.61,\n",
              " 'regularMarketPrice': 177.77,\n",
              " 'preMarketPrice': 178.38,\n",
              " 'logo_url': 'https://logo.clearbit.com/apple.com'}"
            ]
          },
          "metadata": {},
          "execution_count": 8
        }
      ],
      "source": [
        "import json\n",
        "with open('apple.json') as json_file:\n",
        "    apple_info = json.load(json_file)\n",
        "    # Print the type of data variable\n",
        "    #print(\"Type:\", type(apple_info))\n",
        "apple_info"
      ],
      "execution_count": null
    },
    {
      "cell_type": "markdown",
      "metadata": {
        "id": "f678456a-45fd-406d-b97b-954d603e0402"
      },
      "source": [
        "We can get the <code>'country'</code> using the key country\n"
      ]
    },
    {
      "cell_type": "code",
      "metadata": {
        "colab": {
          "base_uri": "https://localhost:8080/",
          "height": 35
        },
        "id": "d52d1930-06e2-4de4-964e-ede1b5c2d6d7",
        "outputId": "5dd3fd06-6b58-4f6b-8346-080231307da1"
      },
      "outputs": [
        {
          "output_type": "execute_result",
          "data": {
            "text/plain": [
              "'United States'"
            ],
            "application/vnd.google.colaboratory.intrinsic+json": {
              "type": "string"
            }
          },
          "metadata": {},
          "execution_count": 9
        }
      ],
      "source": [
        "apple_info['country']"
      ],
      "execution_count": null
    },
    {
      "cell_type": "markdown",
      "metadata": {
        "id": "280a9764-39e4-4097-ae34-942eb36bd609"
      },
      "source": [
        "### Extracting Share Price\n"
      ]
    },
    {
      "cell_type": "markdown",
      "metadata": {
        "id": "e680b764-df86-4a90-a9a0-3af1cf08c263"
      },
      "source": [
        "A share is the single smallest part of a company's stock  that you can buy, the prices of these shares fluctuate over time. Using the <code>history()</code> method we can get the share price of the stock over a certain period of time. Using the `period` parameter we can set how far back from the present to get data. The options for `period` are 1 day (1d), 5d, 1 month (1mo) , 3mo, 6mo, 1 year (1y), 2y, 5y, 10y, ytd, and max.\n"
      ]
    },
    {
      "cell_type": "code",
      "metadata": {
        "id": "6050f96e-fd64-4583-b45d-167e43ebd9fb"
      },
      "outputs": [],
      "source": [
        "apple_share_price_data = apple.history(period=\"max\")"
      ],
      "execution_count": null
    },
    {
      "cell_type": "markdown",
      "metadata": {
        "id": "7966d941-2458-49dc-acd4-a4ef88f7a8dd"
      },
      "source": [
        "The format that the data is returned in is a Pandas DataFrame. With the `Date` as the index the share `Open`, `High`, `Low`, `Close`, `Volume`, and `Stock Splits` are given for each day.\n"
      ]
    },
    {
      "cell_type": "code",
      "metadata": {
        "colab": {
          "base_uri": "https://localhost:8080/",
          "height": 238
        },
        "id": "c0307078-c93c-4e67-a0da-1c0a7b7ec059",
        "outputId": "9cb3e618-cf84-4a83-d038-b30380c9883c"
      },
      "outputs": [
        {
          "output_type": "execute_result",
          "data": {
            "text/plain": [
              "                               Open      High       Low     Close     Volume  \\\n",
              "Date                                                                           \n",
              "1980-12-12 00:00:00-05:00  0.099058  0.099488  0.099058  0.099058  469033600   \n",
              "1980-12-15 00:00:00-05:00  0.094321  0.094321  0.093890  0.093890  175884800   \n",
              "1980-12-16 00:00:00-05:00  0.087429  0.087429  0.086999  0.086999  105728000   \n",
              "1980-12-17 00:00:00-05:00  0.089152  0.089582  0.089152  0.089152   86441600   \n",
              "1980-12-18 00:00:00-05:00  0.091737  0.092167  0.091737  0.091737   73449600   \n",
              "\n",
              "                           Dividends  Stock Splits  \n",
              "Date                                                \n",
              "1980-12-12 00:00:00-05:00        0.0           0.0  \n",
              "1980-12-15 00:00:00-05:00        0.0           0.0  \n",
              "1980-12-16 00:00:00-05:00        0.0           0.0  \n",
              "1980-12-17 00:00:00-05:00        0.0           0.0  \n",
              "1980-12-18 00:00:00-05:00        0.0           0.0  "
            ],
            "text/html": [
              "\n",
              "  <div id=\"df-4b2706b7-6ba6-41d5-9649-a143e4d32c7b\" class=\"colab-df-container\">\n",
              "    <div>\n",
              "<style scoped>\n",
              "    .dataframe tbody tr th:only-of-type {\n",
              "        vertical-align: middle;\n",
              "    }\n",
              "\n",
              "    .dataframe tbody tr th {\n",
              "        vertical-align: top;\n",
              "    }\n",
              "\n",
              "    .dataframe thead th {\n",
              "        text-align: right;\n",
              "    }\n",
              "</style>\n",
              "<table border=\"1\" class=\"dataframe\">\n",
              "  <thead>\n",
              "    <tr style=\"text-align: right;\">\n",
              "      <th></th>\n",
              "      <th>Open</th>\n",
              "      <th>High</th>\n",
              "      <th>Low</th>\n",
              "      <th>Close</th>\n",
              "      <th>Volume</th>\n",
              "      <th>Dividends</th>\n",
              "      <th>Stock Splits</th>\n",
              "    </tr>\n",
              "    <tr>\n",
              "      <th>Date</th>\n",
              "      <th></th>\n",
              "      <th></th>\n",
              "      <th></th>\n",
              "      <th></th>\n",
              "      <th></th>\n",
              "      <th></th>\n",
              "      <th></th>\n",
              "    </tr>\n",
              "  </thead>\n",
              "  <tbody>\n",
              "    <tr>\n",
              "      <th>1980-12-12 00:00:00-05:00</th>\n",
              "      <td>0.099058</td>\n",
              "      <td>0.099488</td>\n",
              "      <td>0.099058</td>\n",
              "      <td>0.099058</td>\n",
              "      <td>469033600</td>\n",
              "      <td>0.0</td>\n",
              "      <td>0.0</td>\n",
              "    </tr>\n",
              "    <tr>\n",
              "      <th>1980-12-15 00:00:00-05:00</th>\n",
              "      <td>0.094321</td>\n",
              "      <td>0.094321</td>\n",
              "      <td>0.093890</td>\n",
              "      <td>0.093890</td>\n",
              "      <td>175884800</td>\n",
              "      <td>0.0</td>\n",
              "      <td>0.0</td>\n",
              "    </tr>\n",
              "    <tr>\n",
              "      <th>1980-12-16 00:00:00-05:00</th>\n",
              "      <td>0.087429</td>\n",
              "      <td>0.087429</td>\n",
              "      <td>0.086999</td>\n",
              "      <td>0.086999</td>\n",
              "      <td>105728000</td>\n",
              "      <td>0.0</td>\n",
              "      <td>0.0</td>\n",
              "    </tr>\n",
              "    <tr>\n",
              "      <th>1980-12-17 00:00:00-05:00</th>\n",
              "      <td>0.089152</td>\n",
              "      <td>0.089582</td>\n",
              "      <td>0.089152</td>\n",
              "      <td>0.089152</td>\n",
              "      <td>86441600</td>\n",
              "      <td>0.0</td>\n",
              "      <td>0.0</td>\n",
              "    </tr>\n",
              "    <tr>\n",
              "      <th>1980-12-18 00:00:00-05:00</th>\n",
              "      <td>0.091737</td>\n",
              "      <td>0.092167</td>\n",
              "      <td>0.091737</td>\n",
              "      <td>0.091737</td>\n",
              "      <td>73449600</td>\n",
              "      <td>0.0</td>\n",
              "      <td>0.0</td>\n",
              "    </tr>\n",
              "  </tbody>\n",
              "</table>\n",
              "</div>\n",
              "    <div class=\"colab-df-buttons\">\n",
              "\n",
              "  <div class=\"colab-df-container\">\n",
              "    <button class=\"colab-df-convert\" onclick=\"convertToInteractive('df-4b2706b7-6ba6-41d5-9649-a143e4d32c7b')\"\n",
              "            title=\"Convert this dataframe to an interactive table.\"\n",
              "            style=\"display:none;\">\n",
              "\n",
              "  <svg xmlns=\"http://www.w3.org/2000/svg\" height=\"24px\" viewBox=\"0 -960 960 960\">\n",
              "    <path d=\"M120-120v-720h720v720H120Zm60-500h600v-160H180v160Zm220 220h160v-160H400v160Zm0 220h160v-160H400v160ZM180-400h160v-160H180v160Zm440 0h160v-160H620v160ZM180-180h160v-160H180v160Zm440 0h160v-160H620v160Z\"/>\n",
              "  </svg>\n",
              "    </button>\n",
              "\n",
              "  <style>\n",
              "    .colab-df-container {\n",
              "      display:flex;\n",
              "      gap: 12px;\n",
              "    }\n",
              "\n",
              "    .colab-df-convert {\n",
              "      background-color: #E8F0FE;\n",
              "      border: none;\n",
              "      border-radius: 50%;\n",
              "      cursor: pointer;\n",
              "      display: none;\n",
              "      fill: #1967D2;\n",
              "      height: 32px;\n",
              "      padding: 0 0 0 0;\n",
              "      width: 32px;\n",
              "    }\n",
              "\n",
              "    .colab-df-convert:hover {\n",
              "      background-color: #E2EBFA;\n",
              "      box-shadow: 0px 1px 2px rgba(60, 64, 67, 0.3), 0px 1px 3px 1px rgba(60, 64, 67, 0.15);\n",
              "      fill: #174EA6;\n",
              "    }\n",
              "\n",
              "    .colab-df-buttons div {\n",
              "      margin-bottom: 4px;\n",
              "    }\n",
              "\n",
              "    [theme=dark] .colab-df-convert {\n",
              "      background-color: #3B4455;\n",
              "      fill: #D2E3FC;\n",
              "    }\n",
              "\n",
              "    [theme=dark] .colab-df-convert:hover {\n",
              "      background-color: #434B5C;\n",
              "      box-shadow: 0px 1px 3px 1px rgba(0, 0, 0, 0.15);\n",
              "      filter: drop-shadow(0px 1px 2px rgba(0, 0, 0, 0.3));\n",
              "      fill: #FFFFFF;\n",
              "    }\n",
              "  </style>\n",
              "\n",
              "    <script>\n",
              "      const buttonEl =\n",
              "        document.querySelector('#df-4b2706b7-6ba6-41d5-9649-a143e4d32c7b button.colab-df-convert');\n",
              "      buttonEl.style.display =\n",
              "        google.colab.kernel.accessAllowed ? 'block' : 'none';\n",
              "\n",
              "      async function convertToInteractive(key) {\n",
              "        const element = document.querySelector('#df-4b2706b7-6ba6-41d5-9649-a143e4d32c7b');\n",
              "        const dataTable =\n",
              "          await google.colab.kernel.invokeFunction('convertToInteractive',\n",
              "                                                    [key], {});\n",
              "        if (!dataTable) return;\n",
              "\n",
              "        const docLinkHtml = 'Like what you see? Visit the ' +\n",
              "          '<a target=\"_blank\" href=https://colab.research.google.com/notebooks/data_table.ipynb>data table notebook</a>'\n",
              "          + ' to learn more about interactive tables.';\n",
              "        element.innerHTML = '';\n",
              "        dataTable['output_type'] = 'display_data';\n",
              "        await google.colab.output.renderOutput(dataTable, element);\n",
              "        const docLink = document.createElement('div');\n",
              "        docLink.innerHTML = docLinkHtml;\n",
              "        element.appendChild(docLink);\n",
              "      }\n",
              "    </script>\n",
              "  </div>\n",
              "\n",
              "\n",
              "<div id=\"df-f2d98cd5-d3e9-4d26-a441-380e898b5100\">\n",
              "  <button class=\"colab-df-quickchart\" onclick=\"quickchart('df-f2d98cd5-d3e9-4d26-a441-380e898b5100')\"\n",
              "            title=\"Suggest charts\"\n",
              "            style=\"display:none;\">\n",
              "\n",
              "<svg xmlns=\"http://www.w3.org/2000/svg\" height=\"24px\"viewBox=\"0 0 24 24\"\n",
              "     width=\"24px\">\n",
              "    <g>\n",
              "        <path d=\"M19 3H5c-1.1 0-2 .9-2 2v14c0 1.1.9 2 2 2h14c1.1 0 2-.9 2-2V5c0-1.1-.9-2-2-2zM9 17H7v-7h2v7zm4 0h-2V7h2v10zm4 0h-2v-4h2v4z\"/>\n",
              "    </g>\n",
              "</svg>\n",
              "  </button>\n",
              "\n",
              "<style>\n",
              "  .colab-df-quickchart {\n",
              "      --bg-color: #E8F0FE;\n",
              "      --fill-color: #1967D2;\n",
              "      --hover-bg-color: #E2EBFA;\n",
              "      --hover-fill-color: #174EA6;\n",
              "      --disabled-fill-color: #AAA;\n",
              "      --disabled-bg-color: #DDD;\n",
              "  }\n",
              "\n",
              "  [theme=dark] .colab-df-quickchart {\n",
              "      --bg-color: #3B4455;\n",
              "      --fill-color: #D2E3FC;\n",
              "      --hover-bg-color: #434B5C;\n",
              "      --hover-fill-color: #FFFFFF;\n",
              "      --disabled-bg-color: #3B4455;\n",
              "      --disabled-fill-color: #666;\n",
              "  }\n",
              "\n",
              "  .colab-df-quickchart {\n",
              "    background-color: var(--bg-color);\n",
              "    border: none;\n",
              "    border-radius: 50%;\n",
              "    cursor: pointer;\n",
              "    display: none;\n",
              "    fill: var(--fill-color);\n",
              "    height: 32px;\n",
              "    padding: 0;\n",
              "    width: 32px;\n",
              "  }\n",
              "\n",
              "  .colab-df-quickchart:hover {\n",
              "    background-color: var(--hover-bg-color);\n",
              "    box-shadow: 0 1px 2px rgba(60, 64, 67, 0.3), 0 1px 3px 1px rgba(60, 64, 67, 0.15);\n",
              "    fill: var(--button-hover-fill-color);\n",
              "  }\n",
              "\n",
              "  .colab-df-quickchart-complete:disabled,\n",
              "  .colab-df-quickchart-complete:disabled:hover {\n",
              "    background-color: var(--disabled-bg-color);\n",
              "    fill: var(--disabled-fill-color);\n",
              "    box-shadow: none;\n",
              "  }\n",
              "\n",
              "  .colab-df-spinner {\n",
              "    border: 2px solid var(--fill-color);\n",
              "    border-color: transparent;\n",
              "    border-bottom-color: var(--fill-color);\n",
              "    animation:\n",
              "      spin 1s steps(1) infinite;\n",
              "  }\n",
              "\n",
              "  @keyframes spin {\n",
              "    0% {\n",
              "      border-color: transparent;\n",
              "      border-bottom-color: var(--fill-color);\n",
              "      border-left-color: var(--fill-color);\n",
              "    }\n",
              "    20% {\n",
              "      border-color: transparent;\n",
              "      border-left-color: var(--fill-color);\n",
              "      border-top-color: var(--fill-color);\n",
              "    }\n",
              "    30% {\n",
              "      border-color: transparent;\n",
              "      border-left-color: var(--fill-color);\n",
              "      border-top-color: var(--fill-color);\n",
              "      border-right-color: var(--fill-color);\n",
              "    }\n",
              "    40% {\n",
              "      border-color: transparent;\n",
              "      border-right-color: var(--fill-color);\n",
              "      border-top-color: var(--fill-color);\n",
              "    }\n",
              "    60% {\n",
              "      border-color: transparent;\n",
              "      border-right-color: var(--fill-color);\n",
              "    }\n",
              "    80% {\n",
              "      border-color: transparent;\n",
              "      border-right-color: var(--fill-color);\n",
              "      border-bottom-color: var(--fill-color);\n",
              "    }\n",
              "    90% {\n",
              "      border-color: transparent;\n",
              "      border-bottom-color: var(--fill-color);\n",
              "    }\n",
              "  }\n",
              "</style>\n",
              "\n",
              "  <script>\n",
              "    async function quickchart(key) {\n",
              "      const quickchartButtonEl =\n",
              "        document.querySelector('#' + key + ' button');\n",
              "      quickchartButtonEl.disabled = true;  // To prevent multiple clicks.\n",
              "      quickchartButtonEl.classList.add('colab-df-spinner');\n",
              "      try {\n",
              "        const charts = await google.colab.kernel.invokeFunction(\n",
              "            'suggestCharts', [key], {});\n",
              "      } catch (error) {\n",
              "        console.error('Error during call to suggestCharts:', error);\n",
              "      }\n",
              "      quickchartButtonEl.classList.remove('colab-df-spinner');\n",
              "      quickchartButtonEl.classList.add('colab-df-quickchart-complete');\n",
              "    }\n",
              "    (() => {\n",
              "      let quickchartButtonEl =\n",
              "        document.querySelector('#df-f2d98cd5-d3e9-4d26-a441-380e898b5100 button');\n",
              "      quickchartButtonEl.style.display =\n",
              "        google.colab.kernel.accessAllowed ? 'block' : 'none';\n",
              "    })();\n",
              "  </script>\n",
              "</div>\n",
              "\n",
              "    </div>\n",
              "  </div>\n"
            ],
            "application/vnd.google.colaboratory.intrinsic+json": {
              "type": "dataframe",
              "variable_name": "apple_share_price_data",
              "summary": "{\n  \"name\": \"apple_share_price_data\",\n  \"rows\": 10991,\n  \"fields\": [\n    {\n      \"column\": \"Date\",\n      \"properties\": {\n        \"dtype\": \"date\",\n        \"min\": \"1980-12-12 00:00:00-05:00\",\n        \"max\": \"2024-07-19 00:00:00-04:00\",\n        \"num_unique_values\": 10991,\n        \"samples\": [\n          \"1981-05-18 00:00:00-04:00\",\n          \"2002-08-22 00:00:00-04:00\",\n          \"2014-08-11 00:00:00-04:00\"\n        ],\n        \"semantic_type\": \"\",\n        \"description\": \"\"\n      }\n    },\n    {\n      \"column\": \"Open\",\n      \"properties\": {\n        \"dtype\": \"number\",\n        \"std\": 45.31548061307823,\n        \"min\": 0.03833096531476323,\n        \"max\": 236.47999572753906,\n        \"num_unique_values\": 10371,\n        \"samples\": [\n          13.418362167426949,\n          0.18218034052274024,\n          0.09259786930328488\n        ],\n        \"semantic_type\": \"\",\n        \"description\": \"\"\n      }\n    },\n    {\n      \"column\": \"High\",\n      \"properties\": {\n        \"dtype\": \"number\",\n        \"std\": 45.80282679548075,\n        \"min\": 0.03833096531476323,\n        \"max\": 237.22999572753906,\n        \"num_unique_values\": 10202,\n        \"samples\": [\n          0.4403904978518441,\n          28.799574604778943,\n          0.282959993717134\n        ],\n        \"semantic_type\": \"\",\n        \"description\": \"\"\n      }\n    },\n    {\n      \"column\": \"Low\",\n      \"properties\": {\n        \"dtype\": \"number\",\n        \"std\": 44.86330627190494,\n        \"min\": 0.03790030628442764,\n        \"max\": 233.08999633789062,\n        \"num_unique_values\": 10014,\n        \"samples\": [\n          0.2838115183834286,\n          0.9468887058261592,\n          0.34641632387225996\n        ],\n        \"semantic_type\": \"\",\n        \"description\": \"\"\n      }\n    },\n    {\n      \"column\": \"Close\",\n      \"properties\": {\n        \"dtype\": \"number\",\n        \"std\": 45.353154332852185,\n        \"min\": 0.03790030628442764,\n        \"max\": 234.82000732421875,\n        \"num_unique_values\": 7983,\n        \"samples\": [\n          46.316043853759766,\n          149.17808532714844,\n          2.7601006031036377\n        ],\n        \"semantic_type\": \"\",\n        \"description\": \"\"\n      }\n    },\n    {\n      \"column\": \"Volume\",\n      \"properties\": {\n        \"dtype\": \"number\",\n        \"std\": 335488719,\n        \"min\": 0,\n        \"max\": 7421640800,\n        \"num_unique_values\": 10427,\n        \"samples\": [\n          54288300,\n          684779200,\n          153585600\n        ],\n        \"semantic_type\": \"\",\n        \"description\": \"\"\n      }\n    },\n    {\n      \"column\": \"Dividends\",\n      \"properties\": {\n        \"dtype\": \"number\",\n        \"std\": 0.011756804535171434,\n        \"min\": 0.0,\n        \"max\": 0.25,\n        \"num_unique_values\": 19,\n        \"samples\": [\n          0.0,\n          0.001071,\n          0.1575\n        ],\n        \"semantic_type\": \"\",\n        \"description\": \"\"\n      }\n    },\n    {\n      \"column\": \"Stock Splits\",\n      \"properties\": {\n        \"dtype\": \"number\",\n        \"std\": 0.08368976559994946,\n        \"min\": 0.0,\n        \"max\": 7.0,\n        \"num_unique_values\": 4,\n        \"samples\": [\n          2.0,\n          4.0,\n          0.0\n        ],\n        \"semantic_type\": \"\",\n        \"description\": \"\"\n      }\n    }\n  ]\n}"
            }
          },
          "metadata": {},
          "execution_count": 36
        }
      ],
      "source": [
        "apple_share_price_data.head()"
      ],
      "execution_count": null
    },
    {
      "cell_type": "markdown",
      "metadata": {
        "id": "cc6d1471-c998-4081-9fd0-d3c0a883a167"
      },
      "source": [
        "We can reset the index of the DataFrame with the `reset_index` function. We also set the `inplace` paramter to `True` so the change takes place to the DataFrame itself.\n"
      ]
    },
    {
      "cell_type": "code",
      "metadata": {
        "id": "f16338c4-4a9a-4e4d-8af2-aed3eb47a017"
      },
      "outputs": [],
      "source": [
        "apple_share_price_data.reset_index(inplace=True)"
      ],
      "execution_count": null
    },
    {
      "cell_type": "markdown",
      "metadata": {
        "id": "31a67eee-d930-4520-8b35-a98ed5f9bc05"
      },
      "source": [
        "We can plot the `Open` price against the `Date`:\n"
      ]
    },
    {
      "cell_type": "code",
      "metadata": {
        "colab": {
          "base_uri": "https://localhost:8080/",
          "height": 439
        },
        "id": "f6b21ec2-e2cb-4a45-bfc4-6f4eaec45681",
        "outputId": "3199fa55-192e-4629-cf7b-5a58d855ef83"
      },
      "outputs": [
        {
          "output_type": "execute_result",
          "data": {
            "text/plain": [
              "<Axes: xlabel='Date'>"
            ]
          },
          "metadata": {},
          "execution_count": 38
        },
        {
          "output_type": "display_data",
          "data": {
            "text/plain": [
              "<Figure size 640x480 with 1 Axes>"
            ],
            "image/png": "[encoded data removed]"
          },
          "metadata": {}
        }
      ],
      "source": [
        "apple_share_price_data.plot(x=\"Date\", y=\"Open\")"
      ],
      "execution_count": null
    },
    {
      "cell_type": "markdown",
      "metadata": {
        "id": "4e66ccd6-8267-4aee-abea-cb7cb8373963"
      },
      "source": [
        "### Extracting Dividends\n"
      ]
    },
    {
      "cell_type": "markdown",
      "metadata": {
        "id": "7d41c9bb-b79e-4b8a-891e-291e92a97f4a"
      },
      "source": [
        "Dividends are the distribution of a companys profits to shareholders. In this case they are defined as an amount of money returned per share an investor owns. Using the variable `dividends` we can get a dataframe of the data. The period of the data is given by the period defined in the 'history` function.\n"
      ]
    },
    {
      "cell_type": "code",
      "metadata": {
        "colab": {
          "base_uri": "https://localhost:8080/"
        },
        "id": "e6b5c902-e0da-4ea2-87d3-64ae5e0761b0",
        "outputId": "3f8f0794-29f3-41cf-82a1-fedd25a8fe67"
      },
      "outputs": [
        {
          "output_type": "execute_result",
          "data": {
            "text/plain": [
              "Date\n",
              "1987-05-11 00:00:00-04:00    0.000536\n",
              "1987-08-10 00:00:00-04:00    0.000536\n",
              "1987-11-17 00:00:00-05:00    0.000714\n",
              "1988-02-12 00:00:00-05:00    0.000714\n",
              "1988-05-16 00:00:00-04:00    0.000714\n",
              "                               ...   \n",
              "2023-05-12 00:00:00-04:00    0.240000\n",
              "2023-08-11 00:00:00-04:00    0.240000\n",
              "2023-11-10 00:00:00-05:00    0.240000\n",
              "2024-02-09 00:00:00-05:00    0.240000\n",
              "2024-05-10 00:00:00-04:00    0.250000\n",
              "Name: Dividends, Length: 83, dtype: float64"
            ]
          },
          "metadata": {},
          "execution_count": 14
        }
      ],
      "source": [
        "apple.dividends"
      ],
      "execution_count": null
    },
    {
      "cell_type": "markdown",
      "metadata": {
        "id": "8b285eb8-b9c1-4449-9801-e64403dd6ef9"
      },
      "source": [
        "We can plot the dividends overtime:\n"
      ]
    },
    {
      "cell_type": "code",
      "metadata": {
        "colab": {
          "base_uri": "https://localhost:8080/",
          "height": 439
        },
        "id": "e9bbc688-6449-401d-bf65-902ab86d1175",
        "outputId": "af7e39c7-2a53-4c42-e05b-fe9159c2cc80"
      },
      "outputs": [
        {
          "output_type": "execute_result",
          "data": {
            "text/plain": [
              "<Axes: xlabel='Date'>"
            ]
          },
          "metadata": {},
          "execution_count": 15
        },
        {
          "output_type": "display_data",
          "data": {
            "text/plain": [
              "<Figure size 640x480 with 1 Axes>"
            ],
            "image/png": "[encoded data removed]"
          },
          "metadata": {}
        }
      ],
      "source": [
        "apple.dividends.plot()"
      ],
      "execution_count": null
    },
    {
      "cell_type": "markdown",
      "metadata": {
        "id": "2c6f951a-e389-4804-ab33-e73233bf1736"
      },
      "source": [
        "## Exercise\n"
      ]
    },
    {
      "cell_type": "markdown",
      "metadata": {
        "id": "efd43d80-25dc-49d3-95ea-ad4258e3e849"
      },
      "source": [
        "Now using the `Ticker` module create an object for AMD (Advanced Micro Devices) with the ticker symbol is `AMD` called; name the object <code>amd</code>.\n"
      ]
    },
    {
      "cell_type": "code",
      "metadata": {
        "id": "1d43b2e6-f595-4e4f-ae85-5cd94d62f644"
      },
      "outputs": [],
      "source": [],
      "execution_count": null
    },
    {
      "cell_type": "code",
      "metadata": {
        "colab": {
          "base_uri": "https://localhost:8080/"
        },
        "id": "b41ec1d2-86af-4e72-aa50-c370ed8e014c",
        "outputId": "404298a8-3d00-4cc0-b132-cba8ea17481a"
      },
      "outputs": [
        {
          "output_type": "stream",
          "name": "stdout",
          "text": [
            "--2024-07-21 18:27:22--  https://cf-courses-data.s3.us.cloud-object-storage.appdomain.cloud/IBMDeveloperSkillsNetwork-PY0220EN-SkillsNetwork/data/amd.json\n",
            "Resolving cf-courses-data.s3.us.cloud-object-storage.appdomain.cloud (cf-courses-data.s3.us.cloud-object-storage.appdomain.cloud)... 169.63.118.104\n",
            "Connecting to cf-courses-data.s3.us.cloud-object-storage.appdomain.cloud (cf-courses-data.s3.us.cloud-object-storage.appdomain.cloud)|169.63.118.104|:443... connected.\n",
            "HTTP request sent, awaiting response... 200 OK\n",
            "Length: 5838 (5.7K) [application/json]\n",
            "Saving to: ‘amd.json.1’\n",
            "\n",
            "\ramd.json.1            0%[                    ]       0  --.-KB/s               \ramd.json.1          100%[===================>]   5.70K  --.-KB/s    in 0s      \n",
            "\n",
            "2024-07-21 18:27:22 (1.02 GB/s) - ‘amd.json.1’ saved [5838/5838]\n",
            "\n"
          ]
        }
      ],
      "source": [
        "!wget https://cf-courses-data.s3.us.cloud-object-storage.appdomain.cloud/IBMDeveloperSkillsNetwork-PY0220EN-SkillsNetwork/data/amd.json"
      ],
      "execution_count": null
    },
    {
      "cell_type": "code",
      "metadata": {
        "colab": {
          "base_uri": "https://localhost:8080/"
        },
        "id": "a3a90d7a-1d38-4107-9340-4e93b93aef66",
        "outputId": "7cc75185-f4f4-40ff-e41c-3ba12fb49072"
      },
      "outputs": [
        {
          "output_type": "execute_result",
          "data": {
            "text/plain": [
              "{'zip': '95054',\n",
              " 'sector': 'Technology',\n",
              " 'fullTimeEmployees': 15500,\n",
              " 'longBusinessSummary': 'Advanced Micro Devices, Inc. operates as a semiconductor company worldwide. The company operates in two segments, Computing and Graphics; and Enterprise, Embedded and Semi-Custom. Its products include x86 microprocessors as an accelerated processing unit, chipsets, discrete and integrated graphics processing units (GPUs), data center and professional GPUs, and development services; and server and embedded processors, and semi-custom System-on-Chip (SoC) products, development services, and technology for game consoles. The company provides processors for desktop and notebook personal computers under the AMD Ryzen, AMD Ryzen PRO, Ryzen Threadripper, Ryzen Threadripper PRO, AMD Athlon, AMD Athlon PRO, AMD FX, AMD A-Series, and AMD PRO A-Series processors brands; discrete GPUs for desktop and notebook PCs under the AMD Radeon graphics, AMD Embedded Radeon graphics brands; and professional graphics products under the AMD Radeon Pro and AMD FirePro graphics brands. It also offers Radeon Instinct, Radeon PRO V-series, and AMD Instinct accelerators for servers; chipsets under the AMD trademark; microprocessors for servers under the AMD EPYC; embedded processor solutions under the AMD Athlon, AMD Geode, AMD Ryzen, AMD EPYC, AMD R-Series, and G-Series processors brands; and customer-specific solutions based on AMD CPU, GPU, and multi-media technologies, as well as semi-custom SoC products. It serves original equipment manufacturers, public cloud service providers, original design manufacturers, system integrators, independent distributors, online retailers, and add-in-board manufacturers through its direct sales force, independent distributors, and sales representatives. The company was incorporated in 1969 and is headquartered in Santa Clara, California.',\n",
              " 'city': 'Santa Clara',\n",
              " 'phone': '408 749 4000',\n",
              " 'state': 'CA',\n",
              " 'country': 'United States',\n",
              " 'companyOfficers': [],\n",
              " 'website': 'https://www.amd.com',\n",
              " 'maxAge': 1,\n",
              " 'address1': '2485 Augustine Drive',\n",
              " 'industry': 'Semiconductors',\n",
              " 'ebitdaMargins': 0.24674,\n",
              " 'profitMargins': 0.19240999,\n",
              " 'grossMargins': 0.48248002,\n",
              " 'operatingCashflow': 3520999936,\n",
              " 'revenueGrowth': 0.488,\n",
              " 'operatingMargins': 0.22198,\n",
              " 'ebitda': 4055000064,\n",
              " 'targetLowPrice': 107,\n",
              " 'recommendationKey': 'buy',\n",
              " 'grossProfits': 7929000000,\n",
              " 'freeCashflow': 3122749952,\n",
              " 'targetMedianPrice': 150,\n",
              " 'currentPrice': 119.22,\n",
              " 'earningsGrowth': -0.454,\n",
              " 'currentRatio': 2.024,\n",
              " 'returnOnAssets': 0.21327,\n",
              " 'numberOfAnalystOpinions': 38,\n",
              " 'targetMeanPrice': 152.02,\n",
              " 'debtToEquity': 9.764,\n",
              " 'returnOnEquity': 0.47428,\n",
              " 'targetHighPrice': 200,\n",
              " 'totalCash': 3608000000,\n",
              " 'totalDebt': 732000000,\n",
              " 'totalRevenue': 16433999872,\n",
              " 'totalCashPerShare': 3.008,\n",
              " 'financialCurrency': 'USD',\n",
              " 'revenuePerShare': 13.548,\n",
              " 'quickRatio': 1.49,\n",
              " 'recommendationMean': 2.2,\n",
              " 'exchange': 'NMS',\n",
              " 'shortName': 'Advanced Micro Devices, Inc.',\n",
              " 'longName': 'Advanced Micro Devices, Inc.',\n",
              " 'exchangeTimezoneName': 'America/New_York',\n",
              " 'exchangeTimezoneShortName': 'EDT',\n",
              " 'isEsgPopulated': False,\n",
              " 'gmtOffSetMilliseconds': '-14400000',\n",
              " 'quoteType': 'EQUITY',\n",
              " 'symbol': 'AMD',\n",
              " 'messageBoardId': 'finmb_168864',\n",
              " 'market': 'us_market',\n",
              " 'annualHoldingsTurnover': None,\n",
              " 'enterpriseToRevenue': 8.525,\n",
              " 'beta3Year': None,\n",
              " 'enterpriseToEbitda': 34.551,\n",
              " '52WeekChange': 0.51966953,\n",
              " 'morningStarRiskRating': None,\n",
              " 'forwardEps': 4.72,\n",
              " 'revenueQuarterlyGrowth': None,\n",
              " 'sharesOutstanding': 1627360000,\n",
              " 'fundInceptionDate': None,\n",
              " 'annualReportExpenseRatio': None,\n",
              " 'totalAssets': None,\n",
              " 'bookValue': 6.211,\n",
              " 'sharesShort': 27776129,\n",
              " 'sharesPercentSharesOut': 0.0171,\n",
              " 'fundFamily': None,\n",
              " 'lastFiscalYearEnd': 1640390400,\n",
              " 'heldPercentInstitutions': 0.52896,\n",
              " 'netIncomeToCommon': 3161999872,\n",
              " 'trailingEps': 2.57,\n",
              " 'lastDividendValue': 0.005,\n",
              " 'SandP52WeekChange': 0.15217662,\n",
              " 'priceToBook': 19.194977,\n",
              " 'heldPercentInsiders': 0.00328,\n",
              " 'nextFiscalYearEnd': 1703462400,\n",
              " 'yield': None,\n",
              " 'mostRecentQuarter': 1640390400,\n",
              " 'shortRatio': 0.24,\n",
              " 'sharesShortPreviousMonthDate': 1644883200,\n",
              " 'floatShares': 1193798619,\n",
              " 'beta': 1.848425,\n",
              " 'enterpriseValue': 140104957952,\n",
              " 'priceHint': 2,\n",
              " 'threeYearAverageReturn': None,\n",
              " 'lastSplitDate': 966902400,\n",
              " 'lastSplitFactor': '2:1',\n",
              " 'legalType': None,\n",
              " 'lastDividendDate': 798940800,\n",
              " 'morningStarOverallRating': None,\n",
              " 'earningsQuarterlyGrowth': -0.453,\n",
              " 'priceToSalesTrailing12Months': 11.805638,\n",
              " 'dateShortInterest': 1647302400,\n",
              " 'pegRatio': 0.99,\n",
              " 'ytdReturn': None,\n",
              " 'forwardPE': 25.258476,\n",
              " 'lastCapGain': None,\n",
              " 'shortPercentOfFloat': 0.0171,\n",
              " 'sharesShortPriorMonth': 88709340,\n",
              " 'impliedSharesOutstanding': 0,\n",
              " 'category': None,\n",
              " 'fiveYearAverageReturn': None,\n",
              " 'previousClose': 123.23,\n",
              " 'regularMarketOpen': 123.04,\n",
              " 'twoHundredDayAverage': 116.6998,\n",
              " 'trailingAnnualDividendYield': 0,\n",
              " 'payoutRatio': 0,\n",
              " 'volume24Hr': None,\n",
              " 'regularMarketDayHigh': 125.66,\n",
              " 'navPrice': None,\n",
              " 'averageDailyVolume10Day': 102167370,\n",
              " 'regularMarketPreviousClose': 123.23,\n",
              " 'fiftyDayAverage': 115.95,\n",
              " 'trailingAnnualDividendRate': 0,\n",
              " 'open': 123.04,\n",
              " 'toCurrency': None,\n",
              " 'averageVolume10days': 102167370,\n",
              " 'expireDate': None,\n",
              " 'algorithm': None,\n",
              " 'dividendRate': None,\n",
              " 'exDividendDate': 798940800,\n",
              " 'circulatingSupply': None,\n",
              " 'startDate': None,\n",
              " 'regularMarketDayLow': 118.59,\n",
              " 'currency': 'USD',\n",
              " 'trailingPE': 46.389107,\n",
              " 'regularMarketVolume': 99476946,\n",
              " 'lastMarket': None,\n",
              " 'maxSupply': None,\n",
              " 'openInterest': None,\n",
              " 'marketCap': 194013855744,\n",
              " 'volumeAllCurrencies': None,\n",
              " 'strikePrice': None,\n",
              " 'averageVolume': 102428813,\n",
              " 'dayLow': 118.59,\n",
              " 'ask': 117.24,\n",
              " 'askSize': 1100,\n",
              " 'volume': 99476946,\n",
              " 'fiftyTwoWeekHigh': 164.46,\n",
              " 'fromCurrency': None,\n",
              " 'fiveYearAvgDividendYield': None,\n",
              " 'fiftyTwoWeekLow': 72.5,\n",
              " 'bid': 117.24,\n",
              " 'tradeable': False,\n",
              " 'dividendYield': None,\n",
              " 'bidSize': 900,\n",
              " 'dayHigh': 125.66,\n",
              " 'regularMarketPrice': 119.22,\n",
              " 'preMarketPrice': 116.98,\n",
              " 'logo_url': 'https://logo.clearbit.com/amd.com'}"
            ]
          },
          "metadata": {},
          "execution_count": 40
        }
      ],
      "source": [
        "import json\n",
        "with open('amd.json') as json_file:\n",
        "    amd_info = json.load(json_file)\n",
        "    # Print the type of data variable\n",
        "    #print(\"Type:\", type(apple_info))\n",
        "amd_info"
      ],
      "execution_count": null
    },
    {
      "cell_type": "markdown",
      "metadata": {
        "id": "9bbb05fc-c55b-4a3a-bc0c-f5e6104c75bc"
      },
      "source": [
        "<b>Question 1</b> Use the key  <code>'country'</code> to find the country the stock belongs to, remember it as it will be a quiz question.\n"
      ]
    },
    {
      "cell_type": "code",
      "source": [
        "amd_info['country']"
      ],
      "metadata": {
        "colab": {
          "base_uri": "https://localhost:8080/",
          "height": 35
        },
        "id": "rTqhqrpegvrx",
        "outputId": "d1554e8e-d587-4ca8-dbef-0c07a14f8f30"
      },
      "execution_count": null,
      "outputs": [
        {
          "output_type": "execute_result",
          "data": {
            "text/plain": [
              "'United States'"
            ],
            "application/vnd.google.colaboratory.intrinsic+json": {
              "type": "string"
            }
          },
          "metadata": {},
          "execution_count": 41
        }
      ]
    },
    {
      "cell_type": "markdown",
      "metadata": {
        "id": "5c1924f0-f1af-4941-a9ef-d0d6a23a8b5a"
      },
      "source": [
        "<b>Question 2</b> Use the key  <code>'sector'</code> to find the sector the stock belongs to, remember it as it will be a quiz question.\n"
      ]
    },
    {
      "cell_type": "code",
      "source": [
        "amd_info['sector']"
      ],
      "metadata": {
        "colab": {
          "base_uri": "https://localhost:8080/",
          "height": 35
        },
        "id": "QDjPk0ojhExo",
        "outputId": "99fd1956-1a8b-496b-de8e-727189ae38fe"
      },
      "execution_count": null,
      "outputs": [
        {
          "output_type": "execute_result",
          "data": {
            "text/plain": [
              "'Technology'"
            ],
            "application/vnd.google.colaboratory.intrinsic+json": {
              "type": "string"
            }
          },
          "metadata": {},
          "execution_count": 42
        }
      ]
    },
    {
      "cell_type": "markdown",
      "metadata": {
        "id": "9fc8c742-a539-4c6d-8634-2c2c4cbe480f"
      },
      "source": [
        "<b>Question 3</b> Obtain stock data for AMD using the `history` function, set the `period` to max. Find the `Volume` traded on the first day (first row).\n"
      ]
    },
    {
      "cell_type": "code",
      "metadata": {
        "colab": {
          "base_uri": "https://localhost:8080/"
        },
        "id": "ab0896c2-078d-4816-bdf7-d2feab4ae316",
        "outputId": "baebe70a-7300-4850-c2ef-2d6f27bdb289"
      },
      "outputs": [
        {
          "output_type": "stream",
          "name": "stdout",
          "text": [
            "Volume traded on the first day: 219600\n"
          ]
        }
      ],
      "source": [
        "# Define the stock symbol\n",
        "symbol = 'AMD'\n",
        "\n",
        "# Fetch historical stock data\n",
        "stock_data = yf.Ticker(symbol).history(period='max')\n",
        "\n",
        "# Get the volume traded on the first day (first row)\n",
        "first_day_volume = stock_data['Volume'].iloc[0]\n",
        "\n",
        "print(f\"Volume traded on the first day: {first_day_volume}\")"
      ],
      "execution_count": null
    },
    {
      "cell_type": "code",
      "source": [
        "import yfinance as yf\n",
        "# Download historical data for a stock\n",
        "msft = yf.Ticker(\"MSFT\")\n",
        "msft_data = msft.history(period=\"max\")\n",
        "# Display the downloaded data\n",
        "msft_data.head()"
      ],
      "metadata": {
        "colab": {
          "base_uri": "https://localhost:8080/",
          "height": 238
        },
        "id": "4-pj7NdSkm1A",
        "outputId": "e2465e1c-bf0d-48cb-eeff-607939affc53"
      },
      "execution_count": null,
      "outputs": [
        {
          "output_type": "execute_result",
          "data": {
            "text/plain": [
              "                               Open      High       Low     Close      Volume  \\\n",
              "Date                                                                            \n",
              "1986-03-13 00:00:00-05:00  0.054693  0.062736  0.054693  0.060055  1031788800   \n",
              "1986-03-14 00:00:00-05:00  0.060055  0.063272  0.060055  0.062199   308160000   \n",
              "1986-03-17 00:00:00-05:00  0.062199  0.063808  0.062199  0.063272   133171200   \n",
              "1986-03-18 00:00:00-05:00  0.063272  0.063808  0.061127  0.061663    67766400   \n",
              "1986-03-19 00:00:00-05:00  0.061663  0.062199  0.060055  0.060591    47894400   \n",
              "\n",
              "                           Dividends  Stock Splits  \n",
              "Date                                                \n",
              "1986-03-13 00:00:00-05:00        0.0           0.0  \n",
              "1986-03-14 00:00:00-05:00        0.0           0.0  \n",
              "1986-03-17 00:00:00-05:00        0.0           0.0  \n",
              "1986-03-18 00:00:00-05:00        0.0           0.0  \n",
              "1986-03-19 00:00:00-05:00        0.0           0.0  "
            ],
            "text/html": [
              "\n",
              "  <div id=\"df-f84c599a-698f-4691-9e15-84fd81fde385\" class=\"colab-df-container\">\n",
              "    <div>\n",
              "<style scoped>\n",
              "    .dataframe tbody tr th:only-of-type {\n",
              "        vertical-align: middle;\n",
              "    }\n",
              "\n",
              "    .dataframe tbody tr th {\n",
              "        vertical-align: top;\n",
              "    }\n",
              "\n",
              "    .dataframe thead th {\n",
              "        text-align: right;\n",
              "    }\n",
              "</style>\n",
              "<table border=\"1\" class=\"dataframe\">\n",
              "  <thead>\n",
              "    <tr style=\"text-align: right;\">\n",
              "      <th></th>\n",
              "      <th>Open</th>\n",
              "      <th>High</th>\n",
              "      <th>Low</th>\n",
              "      <th>Close</th>\n",
              "      <th>Volume</th>\n",
              "      <th>Dividends</th>\n",
              "      <th>Stock Splits</th>\n",
              "    </tr>\n",
              "    <tr>\n",
              "      <th>Date</th>\n",
              "      <th></th>\n",
              "      <th></th>\n",
              "      <th></th>\n",
              "      <th></th>\n",
              "      <th></th>\n",
              "      <th></th>\n",
              "      <th></th>\n",
              "    </tr>\n",
              "  </thead>\n",
              "  <tbody>\n",
              "    <tr>\n",
              "      <th>1986-03-13 00:00:00-05:00</th>\n",
              "      <td>0.054693</td>\n",
              "      <td>0.062736</td>\n",
              "      <td>0.054693</td>\n",
              "      <td>0.060055</td>\n",
              "      <td>1031788800</td>\n",
              "      <td>0.0</td>\n",
              "      <td>0.0</td>\n",
              "    </tr>\n",
              "    <tr>\n",
              "      <th>1986-03-14 00:00:00-05:00</th>\n",
              "      <td>0.060055</td>\n",
              "      <td>0.063272</td>\n",
              "      <td>0.060055</td>\n",
              "      <td>0.062199</td>\n",
              "      <td>308160000</td>\n",
              "      <td>0.0</td>\n",
              "      <td>0.0</td>\n",
              "    </tr>\n",
              "    <tr>\n",
              "      <th>1986-03-17 00:00:00-05:00</th>\n",
              "      <td>0.062199</td>\n",
              "      <td>0.063808</td>\n",
              "      <td>0.062199</td>\n",
              "      <td>0.063272</td>\n",
              "      <td>133171200</td>\n",
              "      <td>0.0</td>\n",
              "      <td>0.0</td>\n",
              "    </tr>\n",
              "    <tr>\n",
              "      <th>1986-03-18 00:00:00-05:00</th>\n",
              "      <td>0.063272</td>\n",
              "      <td>0.063808</td>\n",
              "      <td>0.061127</td>\n",
              "      <td>0.061663</td>\n",
              "      <td>67766400</td>\n",
              "      <td>0.0</td>\n",
              "      <td>0.0</td>\n",
              "    </tr>\n",
              "    <tr>\n",
              "      <th>1986-03-19 00:00:00-05:00</th>\n",
              "      <td>0.061663</td>\n",
              "      <td>0.062199</td>\n",
              "      <td>0.060055</td>\n",
              "      <td>0.060591</td>\n",
              "      <td>47894400</td>\n",
              "      <td>0.0</td>\n",
              "      <td>0.0</td>\n",
              "    </tr>\n",
              "  </tbody>\n",
              "</table>\n",
              "</div>\n",
              "    <div class=\"colab-df-buttons\">\n",
              "\n",
              "  <div class=\"colab-df-container\">\n",
              "    <button class=\"colab-df-convert\" onclick=\"convertToInteractive('df-f84c599a-698f-4691-9e15-84fd81fde385')\"\n",
              "            title=\"Convert this dataframe to an interactive table.\"\n",
              "            style=\"display:none;\">\n",
              "\n",
              "  <svg xmlns=\"http://www.w3.org/2000/svg\" height=\"24px\" viewBox=\"0 -960 960 960\">\n",
              "    <path d=\"M120-120v-720h720v720H120Zm60-500h600v-160H180v160Zm220 220h160v-160H400v160Zm0 220h160v-160H400v160ZM180-400h160v-160H180v160Zm440 0h160v-160H620v160ZM180-180h160v-160H180v160Zm440 0h160v-160H620v160Z\"/>\n",
              "  </svg>\n",
              "    </button>\n",
              "\n",
              "  <style>\n",
              "    .colab-df-container {\n",
              "      display:flex;\n",
              "      gap: 12px;\n",
              "    }\n",
              "\n",
              "    .colab-df-convert {\n",
              "      background-color: #E8F0FE;\n",
              "      border: none;\n",
              "      border-radius: 50%;\n",
              "      cursor: pointer;\n",
              "      display: none;\n",
              "      fill: #1967D2;\n",
              "      height: 32px;\n",
              "      padding: 0 0 0 0;\n",
              "      width: 32px;\n",
              "    }\n",
              "\n",
              "    .colab-df-convert:hover {\n",
              "      background-color: #E2EBFA;\n",
              "      box-shadow: 0px 1px 2px rgba(60, 64, 67, 0.3), 0px 1px 3px 1px rgba(60, 64, 67, 0.15);\n",
              "      fill: #174EA6;\n",
              "    }\n",
              "\n",
              "    .colab-df-buttons div {\n",
              "      margin-bottom: 4px;\n",
              "    }\n",
              "\n",
              "    [theme=dark] .colab-df-convert {\n",
              "      background-color: #3B4455;\n",
              "      fill: #D2E3FC;\n",
              "    }\n",
              "\n",
              "    [theme=dark] .colab-df-convert:hover {\n",
              "      background-color: #434B5C;\n",
              "      box-shadow: 0px 1px 3px 1px rgba(0, 0, 0, 0.15);\n",
              "      filter: drop-shadow(0px 1px 2px rgba(0, 0, 0, 0.3));\n",
              "      fill: #FFFFFF;\n",
              "    }\n",
              "  </style>\n",
              "\n",
              "    <script>\n",
              "      const buttonEl =\n",
              "        document.querySelector('#df-f84c599a-698f-4691-9e15-84fd81fde385 button.colab-df-convert');\n",
              "      buttonEl.style.display =\n",
              "        google.colab.kernel.accessAllowed ? 'block' : 'none';\n",
              "\n",
              "      async function convertToInteractive(key) {\n",
              "        const element = document.querySelector('#df-f84c599a-698f-4691-9e15-84fd81fde385');\n",
              "        const dataTable =\n",
              "          await google.colab.kernel.invokeFunction('convertToInteractive',\n",
              "                                                    [key], {});\n",
              "        if (!dataTable) return;\n",
              "\n",
              "        const docLinkHtml = 'Like what you see? Visit the ' +\n",
              "          '<a target=\"_blank\" href=https://colab.research.google.com/notebooks/data_table.ipynb>data table notebook</a>'\n",
              "          + ' to learn more about interactive tables.';\n",
              "        element.innerHTML = '';\n",
              "        dataTable['output_type'] = 'display_data';\n",
              "        await google.colab.output.renderOutput(dataTable, element);\n",
              "        const docLink = document.createElement('div');\n",
              "        docLink.innerHTML = docLinkHtml;\n",
              "        element.appendChild(docLink);\n",
              "      }\n",
              "    </script>\n",
              "  </div>\n",
              "\n",
              "\n",
              "<div id=\"df-8f68aceb-724f-4929-a1be-c0c259e0d17d\">\n",
              "  <button class=\"colab-df-quickchart\" onclick=\"quickchart('df-8f68aceb-724f-4929-a1be-c0c259e0d17d')\"\n",
              "            title=\"Suggest charts\"\n",
              "            style=\"display:none;\">\n",
              "\n",
              "<svg xmlns=\"http://www.w3.org/2000/svg\" height=\"24px\"viewBox=\"0 0 24 24\"\n",
              "     width=\"24px\">\n",
              "    <g>\n",
              "        <path d=\"M19 3H5c-1.1 0-2 .9-2 2v14c0 1.1.9 2 2 2h14c1.1 0 2-.9 2-2V5c0-1.1-.9-2-2-2zM9 17H7v-7h2v7zm4 0h-2V7h2v10zm4 0h-2v-4h2v4z\"/>\n",
              "    </g>\n",
              "</svg>\n",
              "  </button>\n",
              "\n",
              "<style>\n",
              "  .colab-df-quickchart {\n",
              "      --bg-color: #E8F0FE;\n",
              "      --fill-color: #1967D2;\n",
              "      --hover-bg-color: #E2EBFA;\n",
              "      --hover-fill-color: #174EA6;\n",
              "      --disabled-fill-color: #AAA;\n",
              "      --disabled-bg-color: #DDD;\n",
              "  }\n",
              "\n",
              "  [theme=dark] .colab-df-quickchart {\n",
              "      --bg-color: #3B4455;\n",
              "      --fill-color: #D2E3FC;\n",
              "      --hover-bg-color: #434B5C;\n",
              "      --hover-fill-color: #FFFFFF;\n",
              "      --disabled-bg-color: #3B4455;\n",
              "      --disabled-fill-color: #666;\n",
              "  }\n",
              "\n",
              "  .colab-df-quickchart {\n",
              "    background-color: var(--bg-color);\n",
              "    border: none;\n",
              "    border-radius: 50%;\n",
              "    cursor: pointer;\n",
              "    display: none;\n",
              "    fill: var(--fill-color);\n",
              "    height: 32px;\n",
              "    padding: 0;\n",
              "    width: 32px;\n",
              "  }\n",
              "\n",
              "  .colab-df-quickchart:hover {\n",
              "    background-color: var(--hover-bg-color);\n",
              "    box-shadow: 0 1px 2px rgba(60, 64, 67, 0.3), 0 1px 3px 1px rgba(60, 64, 67, 0.15);\n",
              "    fill: var(--button-hover-fill-color);\n",
              "  }\n",
              "\n",
              "  .colab-df-quickchart-complete:disabled,\n",
              "  .colab-df-quickchart-complete:disabled:hover {\n",
              "    background-color: var(--disabled-bg-color);\n",
              "    fill: var(--disabled-fill-color);\n",
              "    box-shadow: none;\n",
              "  }\n",
              "\n",
              "  .colab-df-spinner {\n",
              "    border: 2px solid var(--fill-color);\n",
              "    border-color: transparent;\n",
              "    border-bottom-color: var(--fill-color);\n",
              "    animation:\n",
              "      spin 1s steps(1) infinite;\n",
              "  }\n",
              "\n",
              "  @keyframes spin {\n",
              "    0% {\n",
              "      border-color: transparent;\n",
              "      border-bottom-color: var(--fill-color);\n",
              "      border-left-color: var(--fill-color);\n",
              "    }\n",
              "    20% {\n",
              "      border-color: transparent;\n",
              "      border-left-color: var(--fill-color);\n",
              "      border-top-color: var(--fill-color);\n",
              "    }\n",
              "    30% {\n",
              "      border-color: transparent;\n",
              "      border-left-color: var(--fill-color);\n",
              "      border-top-color: var(--fill-color);\n",
              "      border-right-color: var(--fill-color);\n",
              "    }\n",
              "    40% {\n",
              "      border-color: transparent;\n",
              "      border-right-color: var(--fill-color);\n",
              "      border-top-color: var(--fill-color);\n",
              "    }\n",
              "    60% {\n",
              "      border-color: transparent;\n",
              "      border-right-color: var(--fill-color);\n",
              "    }\n",
              "    80% {\n",
              "      border-color: transparent;\n",
              "      border-right-color: var(--fill-color);\n",
              "      border-bottom-color: var(--fill-color);\n",
              "    }\n",
              "    90% {\n",
              "      border-color: transparent;\n",
              "      border-bottom-color: var(--fill-color);\n",
              "    }\n",
              "  }\n",
              "</style>\n",
              "\n",
              "  <script>\n",
              "    async function quickchart(key) {\n",
              "      const quickchartButtonEl =\n",
              "        document.querySelector('#' + key + ' button');\n",
              "      quickchartButtonEl.disabled = true;  // To prevent multiple clicks.\n",
              "      quickchartButtonEl.classList.add('colab-df-spinner');\n",
              "      try {\n",
              "        const charts = await google.colab.kernel.invokeFunction(\n",
              "            'suggestCharts', [key], {});\n",
              "      } catch (error) {\n",
              "        console.error('Error during call to suggestCharts:', error);\n",
              "      }\n",
              "      quickchartButtonEl.classList.remove('colab-df-spinner');\n",
              "      quickchartButtonEl.classList.add('colab-df-quickchart-complete');\n",
              "    }\n",
              "    (() => {\n",
              "      let quickchartButtonEl =\n",
              "        document.querySelector('#df-8f68aceb-724f-4929-a1be-c0c259e0d17d button');\n",
              "      quickchartButtonEl.style.display =\n",
              "        google.colab.kernel.accessAllowed ? 'block' : 'none';\n",
              "    })();\n",
              "  </script>\n",
              "</div>\n",
              "\n",
              "    </div>\n",
              "  </div>\n"
            ],
            "application/vnd.google.colaboratory.intrinsic+json": {
              "type": "dataframe",
              "variable_name": "msft_data",
              "summary": "{\n  \"name\": \"msft_data\",\n  \"rows\": 9665,\n  \"fields\": [\n    {\n      \"column\": \"Date\",\n      \"properties\": {\n        \"dtype\": \"date\",\n        \"min\": \"1986-03-13 00:00:00-05:00\",\n        \"max\": \"2024-07-19 00:00:00-04:00\",\n        \"num_unique_values\": 9665,\n        \"samples\": [\n          \"2013-05-08 00:00:00-04:00\",\n          \"2013-07-22 00:00:00-04:00\",\n          \"2013-01-24 00:00:00-05:00\"\n        ],\n        \"semantic_type\": \"\",\n        \"description\": \"\"\n      }\n    },\n    {\n      \"column\": \"Open\",\n      \"properties\": {\n        \"dtype\": \"number\",\n        \"std\": 89.65348257558982,\n        \"min\": 0.0546928855958211,\n        \"max\": 467.0,\n        \"num_unique_values\": 9480,\n        \"samples\": [\n          45.08075813395049,\n          20.29374996702941,\n          163.27274392236126\n        ],\n        \"semantic_type\": \"\",\n        \"description\": \"\"\n      }\n    },\n    {\n      \"column\": \"High\",\n      \"properties\": {\n        \"dtype\": \"number\",\n        \"std\": 90.49029027016526,\n        \"min\": 0.0568375363945961,\n        \"max\": 468.3500061035156,\n        \"num_unique_values\": 9367,\n        \"samples\": [\n          0.1061681124579772,\n          78.66256376701955,\n          19.044776374717806\n        ],\n        \"semantic_type\": \"\",\n        \"description\": \"\"\n      }\n    },\n    {\n      \"column\": \"Low\",\n      \"properties\": {\n        \"dtype\": \"number\",\n        \"std\": 88.77449846113514,\n        \"min\": 0.0546928855958211,\n        \"max\": 464.4599914550781,\n        \"num_unique_values\": 9359,\n        \"samples\": [\n          28.030142596476296,\n          26.219328042692528,\n          40.10459861173105\n        ],\n        \"semantic_type\": \"\",\n        \"description\": \"\"\n      }\n    },\n    {\n      \"column\": \"Close\",\n      \"properties\": {\n        \"dtype\": \"number\",\n        \"std\": 89.68803625269265,\n        \"min\": 0.05576518923044205,\n        \"max\": 467.55999755859375,\n        \"num_unique_values\": 7560,\n        \"samples\": [\n          323.87506103515625,\n          111.10437774658203,\n          0.28740477561950684\n        ],\n        \"semantic_type\": \"\",\n        \"description\": \"\"\n      }\n    },\n    {\n      \"column\": \"Volume\",\n      \"properties\": {\n        \"dtype\": \"number\",\n        \"std\": 38143349,\n        \"min\": 2304000,\n        \"max\": 1031788800,\n        \"num_unique_values\": 9473,\n        \"samples\": [\n          109551800,\n          73489600,\n          81593200\n        ],\n        \"semantic_type\": \"\",\n        \"description\": \"\"\n      }\n    },\n    {\n      \"column\": \"Dividends\",\n      \"properties\": {\n        \"dtype\": \"number\",\n        \"std\": 0.04654065920074266,\n        \"min\": 0.0,\n        \"max\": 3.08,\n        \"num_unique_values\": 21,\n        \"samples\": [\n          0.0,\n          0.56,\n          0.46\n        ],\n        \"semantic_type\": \"\",\n        \"description\": \"\"\n      }\n    },\n    {\n      \"column\": \"Stock Splits\",\n      \"properties\": {\n        \"dtype\": \"number\",\n        \"std\": 0.05796466643683368,\n        \"min\": 0.0,\n        \"max\": 2.0,\n        \"num_unique_values\": 3,\n        \"samples\": [\n          0.0,\n          2.0,\n          1.5\n        ],\n        \"semantic_type\": \"\",\n        \"description\": \"\"\n      }\n    }\n  ]\n}"
            }
          },
          "metadata": {},
          "execution_count": 49
        }
      ]
    },
    {
      "cell_type": "markdown",
      "source": [
        "Here are some of the possible values for the period parameter and what they represent:\n",
        "\n",
        "*  period=\"1d\": Download 1 day of historical data.\n",
        "*  period=\"5d\": Download 5 days of historical data.\n",
        "*  period=\"1mo\": Download 1 month of historical data.\n",
        "*  period=\"3mo\": Download 3 months of historical data.\n",
        "*  period=\"6mo\": Download 6 months of historical data.\n",
        "*  period=\"1y\": Download 1 year of historical data.\n",
        "*  period=\"2y\": Download 2 years of historical data.\n",
        "*  period=\"5y\": Download 5 years of historical data.\n",
        "*  period=\"10y\": Download 10 years of historical data.\n",
        "*  period=\"ytd\": Download historical data since the beginning of the current year.\n",
        "*  period=\"max\": Download all available historical data."
      ],
      "metadata": {
        "id": "Hd9QwjxNlJt9"
      }
    },
    {
      "cell_type": "markdown",
      "metadata": {
        "id": "ef7e6917-15d6-48e6-8abe-67b66ab97b46"
      },
      "source": [
        "<h2>About the Authors:</h2>\n",
        "\n",
        "<a href=\"https://www.linkedin.com/in/joseph-s-50398b136/\">Joseph Santarcangelo</a> has a PhD in Electrical Engineering, his research focused on using machine learning, signal processing, and computer vision to determine how videos impact human cognition. Joseph has been working for IBM since he completed his PhD.\n",
        "\n",
        "Azim Hirjani\n",
        "\n",
        "Adedokun Abdul Baaki\n"
      ]
    },
    {
      "cell_type": "markdown",
      "metadata": {
        "id": "02f99245-1e95-4e53-8f27-8b69f1f9f28c"
      },
      "source": [
        "## <h3 align=\"center\"> © IBM Corporation 2020. All rights reserved. <h3/>\n"
      ]
    },
    {
      "cell_type": "markdown",
      "metadata": {
        "id": "78f49e69-c21f-48bb-bfa0-ca6dcec99974"
      },
      "source": [
        "<!--## Change Log\n",
        "\n",
        "| Date (YYYY-MM-DD) | Version | Changed By    | Change Description        |\n",
        "| ----------------- | ------- | ------------- | ------------------------- |\n",
        "| 2020-11-10        | 1.1     | Malika Singla | Deleted the Optional part |\n",
        "| 2020-08-27        | 1.0     | Malika Singla | Added lab to GitLab       |\n",
        "\n",
        "<hr>\n",
        "<p>\n",
        "--!>\n"
      ]
    }
  ],
  "metadata": {
    "kernelspec": {
      "display_name": "Python 3 (ipykernel)",
      "language": "python",
      "name": "python3"
    },
    "language_info": {
      "codemirror_mode": {
        "name": "ipython",
        "version": 3
      },
      "file_extension": ".py",
      "mimetype": "text/x-python",
      "name": "python",
      "nbconvert_exporter": "python",
      "pygments_lexer": "ipython3",
      "version": "3.11.9"
    },
    "prev_pub_hash": "660ea41267af378af1b87f015ad0e76833cde9ca552964b4ed464ff4a8f5a6f7",
    "colab": {
      "provenance": [],
      "include_colab_link": true
    }
  },
  "nbformat": 4,
  "nbformat_minor": 0
}