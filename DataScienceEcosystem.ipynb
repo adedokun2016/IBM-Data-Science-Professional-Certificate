{
  "nbformat": 4,
  "nbformat_minor": 0,
  "metadata": {
    "colab": {
      "provenance": [],
      "include_colab_link": true
    },
    "kernelspec": {
      "name": "python3",
      "display_name": "Python 3"
    },
    "language_info": {
      "name": "python"
    }
  },
  "cells": [
    {
      "cell_type": "markdown",
      "metadata": {
        "id": "view-in-github",
        "colab_type": "text"
      },
      "source": [
        "<a href=\"https://colab.research.google.com/github/adedokun2016/IBM-Data-Science-Professional-Certificate/blob/main/DataScienceEcosystem.ipynb\" target=\"_parent\"><img src=\"https://colab.research.google.com/assets/colab-badge.svg\" alt=\"Open In Colab\"/></a>"
      ]
    },
    {
      "cell_type": "markdown",
      "source": [
        "# Data Science Tools and Ecosystem"
      ],
      "metadata": {
        "id": "H0sxLX5c9TxV"
      }
    },
    {
      "cell_type": "markdown",
      "source": [
        "## In this notebook, Data Science Tools and Ecosystem are summarized."
      ],
      "metadata": {
        "id": "d3JT-1295gwD"
      }
    },
    {
      "cell_type": "markdown",
      "source": [
        "Some of the popular languages that Data Scientists use are:\n",
        "\n",
        "Python\n",
        "\n",
        "1.   R\n",
        "2.   SQL\n",
        "3.   Jave\n",
        "4.   Scal\n",
        "\n",
        "\n",
        "\n",
        "\n",
        "\n",
        "\n"
      ],
      "metadata": {
        "id": "gatcY0215ryD"
      }
    },
    {
      "cell_type": "markdown",
      "source": [
        "Some of the commonly used libraries used by Data Scientists include:\n",
        "\n",
        "\n",
        "1.   Numpy\n",
        "2.   Pandas\n",
        "3.   Matplotlib\n",
        "4.   SciPy\n",
        "5.   Tensorflow\n",
        "\n",
        "\n",
        "\n"
      ],
      "metadata": {
        "id": "3gJXT_bA6M2L"
      }
    },
    {
      "cell_type": "markdown",
      "source": [
        "| Data Science Tools                  |\n",
        "|-------------------------------------|\n",
        "| Jupyter Notebook                    |\n",
        "| RStudio                             |\n",
        "| Apache Zeppelin                     |\n",
        "-------------------------------------"
      ],
      "metadata": {
        "id": "XLbWmHXk7bnT"
      }
    },
    {
      "cell_type": "markdown",
      "source": [
        "Below are a few examples of evaluating arithmetic expressions in Python"
      ],
      "metadata": {
        "id": "8JvjdSOv7-JJ"
      }
    },
    {
      "cell_type": "code",
      "source": [
        "(3*4)+5"
      ],
      "metadata": {
        "colab": {
          "base_uri": "https://localhost:8080/"
        },
        "id": "aeF29qS_6NxJ",
        "outputId": "faf87e99-5d74-480f-b71a-603d530249fa"
      },
      "execution_count": null,
      "outputs": [
        {
          "output_type": "execute_result",
          "data": {
            "text/plain": [
              "17"
            ]
          },
          "metadata": {},
          "execution_count": 4
        }
      ]
    },
    {
      "cell_type": "code",
      "source": [
        " #This will convert 200 minutes to hours by diving by 60\n",
        "200/60"
      ],
      "metadata": {
        "colab": {
          "base_uri": "https://localhost:8080/"
        },
        "id": "JlS7P00o8jUv",
        "outputId": "cedc8f57-7d55-4a73-89dc-82f31cdd4501"
      },
      "execution_count": null,
      "outputs": [
        {
          "output_type": "execute_result",
          "data": {
            "text/plain": [
              "3.3333333333333335"
            ]
          },
          "metadata": {},
          "execution_count": 6
        }
      ]
    },
    {
      "cell_type": "markdown",
      "source": [
        "## Objectives:"
      ],
      "metadata": {
        "id": "x-VfeY6W83pJ"
      }
    },
    {
      "cell_type": "markdown",
      "source": [
        "List popular languages for Data Science\n",
        "\n",
        "\n",
        "*   Python\n",
        "*   R\n",
        "*   SQL\n",
        "*   Julia\n",
        "*   Java\n",
        "*   SAS\n",
        "\n",
        "\n",
        "\n"
      ],
      "metadata": {
        "id": "BarIaI309gHA"
      }
    },
    {
      "cell_type": "markdown",
      "source": [
        "# Author"
      ],
      "metadata": {
        "id": "VGmCkOWw-aWn"
      }
    },
    {
      "cell_type": "markdown",
      "source": [
        "Adedokun Abdul Baaki"
      ],
      "metadata": {
        "id": "hUJeQ1fL-E5n"
      }
    }
  ]
}